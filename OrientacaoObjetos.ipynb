{
 "cells": [
  {
   "cell_type": "markdown",
   "metadata": {},
   "source": [
    "# Robôs\n"
   ]
  },
  {
   "cell_type": "code",
   "execution_count": 44,
   "metadata": {},
   "outputs": [],
   "source": [
    "class Robo:\n",
    "    def __init__(self,x,y):\n",
    "        self.x = x\n",
    "        self.y = y\n",
    "        \n",
    "    def localizacao(self):\n",
    "        print(str(self.x)+\"--\"+str(self.y))\n",
    "    \n",
    "    def moveUp(self):\n",
    "        if self.y <= 10:\n",
    "            self.y = self.y + 1\n",
    "        self.locaizacao()\n",
    "        \n",
    "    def moveDown(self):\n",
    "        if self.y >= 0:\n",
    "            self.y = self.y - 1\n",
    "        self.localizacao()\n",
    "\n",
    "    def moveLeft(self):\n",
    "        if self.x <= 10:\n",
    "            self.x = self.x + 1\n",
    "        self.localizacao()\n",
    "        \n",
    "    def moveRight(self):\n",
    "        if self.x >=0:\n",
    "            self.x = self.x - 1\n",
    "        self.localizacao()\n",
    "        "
   ]
  },
  {
   "cell_type": "code",
   "execution_count": 45,
   "metadata": {},
   "outputs": [
    {
     "name": "stdout",
     "output_type": "stream",
     "text": [
      "5--5\n"
     ]
    }
   ],
   "source": [
    "robo = Robo(5,5)\n",
    "robo.localizacao()"
   ]
  },
  {
   "cell_type": "code",
   "execution_count": 46,
   "metadata": {},
   "outputs": [],
   "source": [
    "class Robo3D(Robo):\n",
    "    def __init__(self,x,y,z):\n",
    "        super(Robo3D, self).__init__(x,y)\n",
    "        self.z = z\n",
    "    \n",
    "    def localizacao(self):\n",
    "        print(str(self.x)+\"--\"+str(self.y)+\"--\"+str(self.z))"
   ]
  },
  {
   "cell_type": "code",
   "execution_count": 47,
   "metadata": {},
   "outputs": [
    {
     "name": "stdout",
     "output_type": "stream",
     "text": [
      "5--5--8\n"
     ]
    }
   ],
   "source": [
    "robo2 = Robo3D(5,5,8)\n",
    "robo2.localizacao()\n"
   ]
  },
  {
   "cell_type": "code",
   "execution_count": 48,
   "metadata": {},
   "outputs": [
    {
     "name": "stdout",
     "output_type": "stream",
     "text": [
      "6--5--8\n",
      "6--4--8\n"
     ]
    }
   ],
   "source": [
    "robo2.moveLeft()\n",
    "robo2.moveDown()"
   ]
  },
  {
   "cell_type": "code",
   "execution_count": 31,
   "metadata": {
    "scrolled": true
   },
   "outputs": [
    {
     "ename": "SyntaxError",
     "evalue": "invalid syntax (<ipython-input-31-85b1ef6175e2>, line 3)",
     "output_type": "error",
     "traceback": [
      "\u001b[1;36m  File \u001b[1;32m\"<ipython-input-31-85b1ef6175e2>\"\u001b[1;36m, line \u001b[1;32m3\u001b[0m\n\u001b[1;33m    orientacao a objetos\u001b[0m\n\u001b[1;37m               ^\u001b[0m\n\u001b[1;31mSyntaxError\u001b[0m\u001b[1;31m:\u001b[0m invalid syntax\n"
     ]
    }
   ],
   "source": []
  }
 ],
 "metadata": {
  "kernelspec": {
   "display_name": "Python 3",
   "language": "python",
   "name": "python3"
  },
  "language_info": {
   "codemirror_mode": {
    "name": "ipython",
    "version": 3
   },
   "file_extension": ".py",
   "mimetype": "text/x-python",
   "name": "python",
   "nbconvert_exporter": "python",
   "pygments_lexer": "ipython3",
   "version": "3.7.1"
  }
 },
 "nbformat": 4,
 "nbformat_minor": 2
}
