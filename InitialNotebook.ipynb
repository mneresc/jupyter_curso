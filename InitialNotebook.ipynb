{
 "cells": [
  {
   "cell_type": "code",
   "execution_count": 1,
   "metadata": {},
   "outputs": [
    {
     "name": "stdout",
     "output_type": "stream",
     "text": [
      "banana morango cupuaçu "
     ]
    }
   ],
   "source": [
    "lista = ['banana', 'morango','cupuaçu']\n",
    "for fruta in lista:\n",
    "    print(fruta, end=' ')"
   ]
  },
  {
   "cell_type": "code",
   "execution_count": 2,
   "metadata": {},
   "outputs": [
    {
     "name": "stdout",
     "output_type": "stream",
     "text": [
      "1 first digit 2 second digit\n"
     ]
    }
   ],
   "source": [
    "def funcao(n1,n2):\n",
    "    print('%d first digit %d second digit' % (n1,n2))\n",
    "funcao(1,2)"
   ]
  },
  {
   "cell_type": "code",
   "execution_count": 4,
   "metadata": {},
   "outputs": [
    {
     "name": "stdout",
     "output_type": "stream",
     "text": [
      "version: \"3\"\n",
      "services:\n",
      "  jupyter:\n",
      "      image: jupyter/minimal-notebook\n",
      "      environment:\n",
      "        - JUPYTER_ENABLE_LAB=yes\n",
      "        - PASSWORD=\"pistols04\"\n",
      "      ports:\n",
      "        - \"8888:8888\"\n",
      "#python3 -m pip install jupyter\n"
     ]
    }
   ],
   "source": [
    "arq = open('docker-compose.yml','r')\n",
    "content = arq.read()\n",
    "print(content)\n"
   ]
  },
  {
   "cell_type": "code",
   "execution_count": 9,
   "metadata": {},
   "outputs": [
    {
     "name": "stdout",
     "output_type": "stream",
     "text": [
      "version: \"3\"\n",
      "services:\n",
      "  jupyter:\n",
      "      image: jupyter/minimal-notebook\n",
      "      environment:\n",
      "        - JUPYTER_ENABLE_LAB=yes\n",
      "        - PASSWORD=\"pistols04\"\n",
      "      ports:\n",
      "        - \"8888:8888\"\n",
      "#python3 -m pip install jupyter\n"
     ]
    }
   ],
   "source": [
    "with open('docker-compose.yml','r') as arq:\n",
    "    print(arq.read())"
   ]
  },
  {
   "cell_type": "code",
   "execution_count": 15,
   "metadata": {},
   "outputs": [
    {
     "name": "stdout",
     "output_type": "stream",
     "text": [
      "<__main__.Pessoa object at 0x05F4BC30>\n",
      "marcelo\n"
     ]
    }
   ],
   "source": [
    "class Pessoa:   \n",
    "    def __init__(self, nome, idade):\n",
    "        self.nome = nome\n",
    "        self.idade = idade\n",
    "        \n",
    "    def imprimir_nome(self):\n",
    "        print(self.nome)\n",
    "    \n",
    "p = Pessoa('marcelo',28)\n",
    "print(p)\n",
    "p.imprimir_nome()"
   ]
  },
  {
   "cell_type": "code",
   "execution_count": null,
   "metadata": {},
   "outputs": [],
   "source": []
  },
  {
   "cell_type": "code",
   "execution_count": null,
   "metadata": {},
   "outputs": [],
   "source": []
  },
  {
   "cell_type": "code",
   "execution_count": null,
   "metadata": {},
   "outputs": [],
   "source": []
  },
  {
   "cell_type": "code",
   "execution_count": null,
   "metadata": {},
   "outputs": [],
   "source": []
  },
  {
   "cell_type": "code",
   "execution_count": null,
   "metadata": {},
   "outputs": [],
   "source": []
  }
 ],
 "metadata": {
  "kernelspec": {
   "display_name": "Python 3",
   "language": "python",
   "name": "python3"
  },
  "language_info": {
   "codemirror_mode": {
    "name": "ipython",
    "version": 3
   },
   "file_extension": ".py",
   "mimetype": "text/x-python",
   "name": "python",
   "nbconvert_exporter": "python",
   "pygments_lexer": "ipython3",
   "version": "3.7.1"
  }
 },
 "nbformat": 4,
 "nbformat_minor": 2
}
